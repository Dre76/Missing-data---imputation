{
  "nbformat": 4,
  "nbformat_minor": 0,
  "metadata": {
    "colab": {
      "provenance": []
    },
    "kernelspec": {
      "name": "python3",
      "display_name": "Python 3"
    },
    "language_info": {
      "name": "python"
    }
  },
  "cells": [
    {
      "cell_type": "code",
      "execution_count": null,
      "metadata": {
        "id": "zK2oZttTy1WX"
      },
      "outputs": [],
      "source": [
        "import pandas as pd\n",
        "import numpy as np\n",
        "\n",
        "nan = np.nan\n",
        "\n",
        "df = pd.DataFrame(data={\n",
        "    \"age\": [nan,29,29,32,95],\n",
        "    \"height_cm\": [180,190, 180, nan, 155],\n",
        "    \"weight_kg\": [80, 80, nan, 90, 45],\n",
        "},dtype=np.float64)\n",
        "df\n",
        "\n",
        "# Same value everywhere\n",
        "df.fillna(0)\n",
        "\n",
        "# Fill with mean\n",
        "display(df)\n",
        "display(df.mean())\n",
        "df.fillna(df.mean())\n",
        "\n",
        "# Fill with median\n",
        "display(df)\n",
        "display(df.median())\n",
        "df.fillna(df.median())\n",
        "\n",
        "# Fill with mode\n",
        "display(df)\n",
        "display(df.mode()) # Not a series, so we need to grab the first and only row\n",
        "df.fillna(df.mode().iloc[0])\n",
        "\n",
        "# Interpolation (not useful in this case because ordering is irrelevant)\n",
        "display(df)\n",
        "display((180 + 155) / 2)\n",
        "display((80 + 90) / 2)\n",
        "df.interpolate(method=\"linear\")\n",
        "\n",
        "# ffill/bfill (not useful in this case)\n",
        "display(df)\n",
        "df.fillna(method='ffill')\n",
        "# df.fillna(method='bfill')\n",
        "\n",
        "# K Nearest Neighbour\n",
        "display(df)\n",
        "\n",
        "from sklearn.impute import KNNImputer\n",
        "imputer = KNNImputer(n_neighbors=2)\n",
        "imputed = imputer.fit_transform(df)\n",
        "display(imputed)\n",
        "\n",
        "pd.DataFrame(data=imputed, columns = ['age','height_cm','weight_kg'])"
      ]
    }
  ]
}